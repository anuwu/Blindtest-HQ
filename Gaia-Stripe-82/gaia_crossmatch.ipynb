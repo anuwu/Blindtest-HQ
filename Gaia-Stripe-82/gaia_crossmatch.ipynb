{
 "cells": [
  {
   "cell_type": "markdown",
   "metadata": {},
   "source": [
    "## Imports"
   ]
  },
  {
   "cell_type": "code",
   "execution_count": null,
   "metadata": {},
   "outputs": [],
   "source": [
    "import os\n",
    "import time\n",
    "import numpy as np\n",
    "import pandas as pd\n",
    "from astropy.coordinates import SkyCoord\n",
    "from astropy import units as u"
   ]
  },
  {
   "cell_type": "markdown",
   "metadata": {},
   "source": [
    "## Load catalogs"
   ]
  },
  {
   "cell_type": "code",
   "execution_count": null,
   "metadata": {},
   "outputs": [],
   "source": [
    "gaia_df = pd.read_csv('Gaia_Stripe82_All.csv', dtype=str)\n",
    "gaia_coods = gaia_df[['ra', 'dec']].to_numpy(np.float64)*u.degree\n",
    "gaia_cat = SkyCoord(gaia_coods, frame='icrs')\n",
    "\n",
    "sdss_df = pd.read_csv('SDSS.csv', dtype=str)\n",
    "sdss_coods = sdss_df[['ra', 'dec']].to_numpy(np.float64)*u.degree\n",
    "sdss_cat = SkyCoord(sdss_coods, frame='icrs')"
   ]
  },
  {
   "cell_type": "markdown",
   "metadata": {},
   "source": [
    "## Crossmatch"
   ]
  },
  {
   "cell_type": "code",
   "execution_count": null,
   "metadata": {},
   "outputs": [],
   "source": [
    "arc = 20\n",
    "tol = arc/3600\n",
    "k = 5\n",
    "\n",
    "matches = np.array([\n",
    "    sdss_cat.match_to_catalog_sky(gaia_cat, i)[1]\n",
    "    for i in range(1, k+1)\n",
    "]).transpose()"
   ]
  },
  {
   "cell_type": "markdown",
   "metadata": {},
   "source": [
    "## Output cleaned catalog to csv"
   ]
  },
  {
   "cell_type": "code",
   "execution_count": null,
   "metadata": {},
   "outputs": [],
   "source": [
    "matched_ids = np.argwhere(np.invert(\n",
    "    (matches < tol).any(axis=1)\n",
    ")).flatten()\n",
    "\n",
    "sdss_df.loc[matched_ids].to_csv('sdss_{}_{}.csv'.format(arc, k), index=False)"
   ]
  }
 ],
 "metadata": {
  "kernelspec": {
   "display_name": "Python 3",
   "language": "python",
   "name": "python3"
  },
  "language_info": {
   "codemirror_mode": {
    "name": "ipython",
    "version": 3
   },
   "file_extension": ".py",
   "mimetype": "text/x-python",
   "name": "python",
   "nbconvert_exporter": "python",
   "pygments_lexer": "ipython3",
   "version": "3.8.3"
  }
 },
 "nbformat": 4,
 "nbformat_minor": 4
}
