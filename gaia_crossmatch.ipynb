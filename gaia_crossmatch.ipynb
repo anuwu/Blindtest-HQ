{
 "cells": [
  {
   "cell_type": "markdown",
   "metadata": {},
   "source": [
    "## Imports"
   ]
  },
  {
   "cell_type": "code",
   "execution_count": null,
   "metadata": {},
   "outputs": [],
   "source": [
    "import os\n",
    "import time\n",
    "import numpy as np\n",
    "import pandas as pd\n",
    "import matplotlib.pyplot as plt\n",
    "from astropy.coordinates import SkyCoord\n",
    "from astropy import units as u"
   ]
  },
  {
   "cell_type": "markdown",
   "metadata": {},
   "source": [
    "## Load catalogs"
   ]
  },
  {
   "cell_type": "code",
   "execution_count": null,
   "metadata": {},
   "outputs": [],
   "source": [
    "gaia_df = pd.read_csv('Gaia-Stripe82/Gaia_Stripe82_All.csv', dtype=str)\n",
    "gaia_coods = gaia_df[['ra', 'dec']].to_numpy(np.float64)*u.degree\n",
    "gaia_cat = SkyCoord(gaia_coods, frame='icrs')\n",
    "\n",
    "sdss_df = pd.read_csv(\"SDSS-Stripe82/SDSS_Stripe82_All.csv\", dtype=str)\n",
    "sdss_coods = sdss_df[['ra', 'dec']].to_numpy(np.float64)*u.degree\n",
    "sdss_cat = SkyCoord(sdss_coods, frame='icrs')"
   ]
  },
  {
   "cell_type": "markdown",
   "metadata": {},
   "source": [
    "## Crossmatch and Output csv"
   ]
  },
  {
   "cell_type": "code",
   "execution_count": null,
   "metadata": {},
   "outputs": [],
   "source": [
    "def get_partition_name (name, arc1, arc2) :\n",
    "    return \"{}_{}\".format(name,\n",
    "        \"gt-{}\".format(arc2) if arc1 is None else (\n",
    "            \"le-{}\".format(arc1) if arc2 is None else \"{}-b-{}\".format(arc1, arc2)\n",
    "        )\n",
    "    )\n",
    "\n",
    "def get_match_inds(matches, arc1, arc2) :\n",
    "    assert arc1 is not None or arc2 is not None\n",
    "    tol1 = None if arc1 is None else arc1/3600\n",
    "    tol2 = None if arc2 is None else arc2/3600\n",
    "    \n",
    "    bools = matches > tol2 if tol1 is None else (\n",
    "        np.logical_and(matches <= tol1, matches != 0) if tol2 is None\n",
    "        else np.logical_and(matches > tol1, matches <= tol2)\n",
    "    )\n",
    "    \n",
    "    return np.argwhere(bools).flatten()\n",
    "\n",
    "def partition_zip (lo, hi, step) :\n",
    "    return zip(\n",
    "        [lo] + list(range(lo, hi, step)) + [None], \n",
    "        [None] + list(range(lo + step, hi + step, step)) + [hi]\n",
    "    )\n",
    "    \n",
    "base = os.path.abspath(\"SDSSxGaia\")\n",
    "\n",
    "lo_cross = 10\n",
    "hi_cross = 100\n",
    "step_cross = 10\n",
    "lo_self = 1\n",
    "hi_self = 10\n",
    "step_self = 1\n",
    "\n",
    "for arc1, arc2 in partition_zip(lo_cross, hi_cross, step_cross) :\n",
    "    matches = np.array([\n",
    "        sdss_cat.match_to_catalog_sky(gaia_cat, 1)[1]\n",
    "    ]).flatten()\n",
    "    \n",
    "    matched_ids = get_match_inds(matches, arc1, arc2)\n",
    "    cleaned_df = sdss_df.loc[matched_ids].reset_index()\n",
    "    \n",
    "    cfold = os.path.join(base, get_partition_name(\"Matched\", arc1, arc2))\n",
    "    if not os.path.isdir(cfold) : os.mkdir(cfold)\n",
    "        \n",
    "    cleaned_df.to_csv(os.path.join(cfold, 'coods.csv'), index=False)\n",
    "    cleaned_coods = cleaned_df[['ra', 'dec']].to_numpy(np.float64)*u.degree\n",
    "    cleaned_cat = SkyCoord(cleaned_coods)\n",
    "    cleaned_matches = np.array([\n",
    "        cleaned_cat.match_to_catalog_sky(cleaned_cat, 2)[1]\n",
    "    ]).flatten()\n",
    "\n",
    "    for a1, a2 in partition_zip(lo_self, hi_self, step_self) :\n",
    "        inds = get_match_inds(cleaned_matches, a1, a2)\n",
    "        fname = get_partition_name(\"coods\", a1, a2) + \".csv\"\n",
    "        fpath = os.path.join(base, cfold, fname)\n",
    "        cleaned_df.iloc[inds][cleaned_df.columns[1:]].to_csv(fpath, index=False)\n",
    "        \n",
    "    print(arc1, arc2)"
   ]
  },
  {
   "cell_type": "markdown",
   "metadata": {},
   "source": [
    "## Extract matching distribution"
   ]
  },
  {
   "cell_type": "code",
   "execution_count": null,
   "metadata": {},
   "outputs": [],
   "source": [
    "parts = ! wc -l SDSSxGaia/Matches*/coods.csv | grep -o \"[0-9]*[0-9] \" | head -11 | tr -d \"[:blank:]\"\n",
    "parts = list(map(int, parts))\n",
    "parts = [parts[-1]] + parts[:-1]"
   ]
  },
  {
   "cell_type": "markdown",
   "metadata": {},
   "source": [
    "## Plot Distribution"
   ]
  },
  {
   "cell_type": "code",
   "execution_count": null,
   "metadata": {},
   "outputs": [],
   "source": [
    "fig, ax = plt.subplots(1,1)\n",
    "ax.bar(range(11), parts, 0.8, align='edge')\n",
    "ax.set_xticks(range(11))\n",
    "ax.set_xlabel('Matching Distance', fontsize=15)\n",
    "ax.set_ylabel('Match count', fontsize=15)\n",
    "\n",
    "# fig.savefig('SDSSxGaia_match_counts.png')\n",
    "pass"
   ]
  }
 ],
 "metadata": {
  "kernelspec": {
   "display_name": "Python 3",
   "language": "python",
   "name": "python3"
  },
  "language_info": {
   "codemirror_mode": {
    "name": "ipython",
    "version": 3
   },
   "file_extension": ".py",
   "mimetype": "text/x-python",
   "name": "python",
   "nbconvert_exporter": "python",
   "pygments_lexer": "ipython3",
   "version": "3.8.3"
  }
 },
 "nbformat": 4,
 "nbformat_minor": 4
}
