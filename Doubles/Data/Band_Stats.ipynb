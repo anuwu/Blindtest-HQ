{
 "cells": [
  {
   "cell_type": "markdown",
   "metadata": {},
   "source": [
    "## Import"
   ]
  },
  {
   "cell_type": "code",
   "execution_count": null,
   "metadata": {},
   "outputs": [],
   "source": [
    "import pandas as pd\n",
    "import numpy as np\n",
    "import matplotlib.pyplot as plt"
   ]
  },
  {
   "cell_type": "markdown",
   "metadata": {},
   "source": [
    "## Read csv"
   ]
  },
  {
   "cell_type": "code",
   "execution_count": null,
   "metadata": {},
   "outputs": [],
   "source": [
    "file = \"Pure/pure_pids.csv\"\n",
    "df = pd.read_csv(file, usecols=['objid', 'bands', 'pid1', 'pid2'], dtype=object)"
   ]
  },
  {
   "cell_type": "markdown",
   "metadata": {},
   "source": [
    "## Band-Count and Object-Bands Dicts"
   ]
  },
  {
   "cell_type": "code",
   "execution_count": null,
   "metadata": {},
   "outputs": [],
   "source": [
    "u, g, r, i = 0, 0, 0, 0\n",
    "u_ids, g_ids, r_ids, i_ids = [], [], [], []\n",
    "\n",
    "band_stat = {b:[0, []] for b in \"ugri\"}\n",
    "objid_stat = {}\n",
    "\n",
    "for i in range(len(df)) :\n",
    "    objid = df.loc[i, 'objid']\n",
    "    bands = df.loc[i, 'bands']\n",
    "    for b in bands :\n",
    "        band_stat[b][0] += 1\n",
    "        band_stat[b][1].append(df.loc[i, 'objid'])\n",
    "        \n",
    "    objid_stat[objid] = bands"
   ]
  },
  {
   "cell_type": "markdown",
   "metadata": {},
   "source": [
    "## Band Correlation"
   ]
  },
  {
   "cell_type": "code",
   "execution_count": null,
   "metadata": {},
   "outputs": [],
   "source": [
    "corrs = {}\n",
    "for b1 in \"ugri\" :\n",
    "    corr = {b:0 for b in \"ugri\" if b != b1}\n",
    "\n",
    "    other_count = []\n",
    "    single_band = 0\n",
    "    for objid in band_stat[b1][1] :\n",
    "        other = 0\n",
    "        for b2 in objid_stat[objid] :\n",
    "            if b1 != b2 :\n",
    "                other += 1\n",
    "                corr[b2] += 1\n",
    "\n",
    "        if not other :\n",
    "            single_band += 1\n",
    "        else :\n",
    "            other_count.append(other)\n",
    "\n",
    "    other_count = np.unique(np.array(other_count), return_counts=True)\n",
    "    corrs[b1] = (corr, single_band, other_count)"
   ]
  }
 ],
 "metadata": {
  "kernelspec": {
   "display_name": "Python 3",
   "language": "python",
   "name": "python3"
  },
  "language_info": {
   "codemirror_mode": {
    "name": "ipython",
    "version": 3
   },
   "file_extension": ".py",
   "mimetype": "text/x-python",
   "name": "python",
   "nbconvert_exporter": "python",
   "pygments_lexer": "ipython3",
   "version": "3.8.3"
  }
 },
 "nbformat": 4,
 "nbformat_minor": 4
}
