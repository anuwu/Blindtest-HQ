{
 "cells": [
  {
   "cell_type": "markdown",
   "metadata": {},
   "source": [
    "## Import"
   ]
  },
  {
   "cell_type": "code",
   "execution_count": 1,
   "metadata": {},
   "outputs": [],
   "source": [
    "import pandas as pd\n",
    "import numpy as np\n",
    "import matplotlib.pyplot as plt"
   ]
  },
  {
   "cell_type": "markdown",
   "metadata": {},
   "source": [
    "## Read csv"
   ]
  },
  {
   "cell_type": "code",
   "execution_count": 2,
   "metadata": {},
   "outputs": [
    {
     "name": "stdout",
     "output_type": "stream",
     "text": [
      "Total objects = 973\n"
     ]
    }
   ],
   "source": [
    "file = \"Pure/pure_pids.csv\"\n",
    "df = pd.read_csv(file, usecols=['objid', 'bands', 'pid1', 'pid2'], dtype=object)\n",
    "total = len(df)\n",
    "print(\"Total objects = {}\".format(total))"
   ]
  },
  {
   "cell_type": "markdown",
   "metadata": {},
   "source": [
    "## Band-Count and Object-Bands Dicts"
   ]
  },
  {
   "cell_type": "code",
   "execution_count": 3,
   "metadata": {},
   "outputs": [],
   "source": [
    "band_stat = {b:[] for b in \"ugri\"}\n",
    "objid_stat = {}\n",
    "\n",
    "for i in range(total) :\n",
    "    objid = df.loc[i, 'objid']\n",
    "    bands = df.loc[i, 'bands']\n",
    "    for b in bands :\n",
    "        band_stat[b].append(df.loc[i, 'objid'])\n",
    "        \n",
    "    objid_stat[objid] = bands"
   ]
  },
  {
   "cell_type": "markdown",
   "metadata": {},
   "source": [
    "## Band Correlation"
   ]
  },
  {
   "cell_type": "code",
   "execution_count": 4,
   "metadata": {},
   "outputs": [],
   "source": [
    "corrs = {}\n",
    "for b1 in \"ugri\" :\n",
    "    corr = {b:0 for b in \"ugri\" if b != b1}\n",
    "\n",
    "    other_count = []\n",
    "    single_band = 0\n",
    "    for objid in band_stat[b1] :\n",
    "        other = 0\n",
    "        for b2 in objid_stat[objid] :\n",
    "            if b1 != b2 :\n",
    "                other += 1\n",
    "                corr[b2] += 1\n",
    "\n",
    "        if not other :\n",
    "            single_band += 1\n",
    "        else :\n",
    "            other_count.append(other)\n",
    "\n",
    "    uq, cnts = np.unique(np.array(other_count), return_counts=True)\n",
    "    other_count = {uq[i]:cnts[i] for i in range(len(uq))}\n",
    "    corrs[b1] = (corr, single_band, other_count)"
   ]
  },
  {
   "cell_type": "markdown",
   "metadata": {},
   "source": [
    "# Overall Band Statistics"
   ]
  },
  {
   "cell_type": "code",
   "execution_count": 24,
   "metadata": {},
   "outputs": [
    {
     "name": "stdout",
     "output_type": "stream",
     "text": [
      "Maximum number of bands in which an object was detected simultaneously = 2\n",
      "Band in which maximum detections occured is 'i' with 597 detections\n"
     ]
    }
   ],
   "source": [
    "max_corr = max([\n",
    "    max([u for u,_ in corrs[b][2].items()])\n",
    "])\n",
    "print (\"Maximum number of bands in which an object was detected simultaneously = {}\".format(max_corr))\n",
    "\n",
    "max_band, max_count = '', 0\n",
    "for b in \"ugri\" :\n",
    "    if len(band_stat[b]) > max_count :\n",
    "        max_count = len(band_stat[b])\n",
    "        max_band = b\n",
    "print (\"Band in which maximum detections occured is '{}' with {} detections\".format(max_band, max_count))"
   ]
  },
  {
   "cell_type": "markdown",
   "metadata": {},
   "source": [
    "## Individual Band Statitics"
   ]
  },
  {
   "cell_type": "code",
   "execution_count": 26,
   "metadata": {},
   "outputs": [
    {
     "name": "stdout",
     "output_type": "stream",
     "text": [
      "Total detections in band = 138\n",
      "Only detections in band = 133\n",
      "Correlated detections in band = {'g': 2, 'r': 1, 'i': 3}\n",
      "Number of correlations = {1: 4, 2: 1}\n"
     ]
    }
   ],
   "source": [
    "b = 'u'\n",
    "print (\"Total detections in band = {}\".format(len(band_stat[b])))\n",
    "print (\"Only detections in band = {}\".format(corrs[b][1]))\n",
    "print (\"Correlated detections in band = {}\".format(corrs[b][0]))\n",
    "print (\"Number of correlations = {}\".format(corrs[b][2]))"
   ]
  }
 ],
 "metadata": {
  "kernelspec": {
   "display_name": "Python 3",
   "language": "python",
   "name": "python3"
  },
  "language_info": {
   "codemirror_mode": {
    "name": "ipython",
    "version": 3
   },
   "file_extension": ".py",
   "mimetype": "text/x-python",
   "name": "python",
   "nbconvert_exporter": "python",
   "pygments_lexer": "ipython3",
   "version": "3.8.3"
  }
 },
 "nbformat": 4,
 "nbformat_minor": 4
}
