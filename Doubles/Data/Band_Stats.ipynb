{
 "cells": [
  {
   "cell_type": "markdown",
   "metadata": {},
   "source": [
    "## Import"
   ]
  },
  {
   "cell_type": "code",
   "execution_count": null,
   "metadata": {},
   "outputs": [],
   "source": [
    "import pandas as pd\n",
    "import numpy as np\n",
    "import matplotlib.pyplot as plt"
   ]
  },
  {
   "cell_type": "markdown",
   "metadata": {},
   "source": [
    "## Read csv"
   ]
  },
  {
   "cell_type": "code",
   "execution_count": null,
   "metadata": {},
   "outputs": [],
   "source": [
    "file = \"Pure/pure_pids.csv\"\n",
    "df = pd.read_csv(file, usecols=['objid', 'bands', 'pid1', 'pid2'], dtype=object)\n",
    "total = len(df)\n",
    "print(\"Total objects = {}\".format(total))"
   ]
  },
  {
   "cell_type": "markdown",
   "metadata": {},
   "source": [
    "## Band-Count and Object-Bands Dicts"
   ]
  },
  {
   "cell_type": "code",
   "execution_count": null,
   "metadata": {},
   "outputs": [],
   "source": [
    "band_stat = {b:[] for b in \"ugri\"}\n",
    "objid_stat = {}\n",
    "\n",
    "for i in range(total) :\n",
    "    objid = df.loc[i, 'objid']\n",
    "    bands = df.loc[i, 'bands']\n",
    "    for b in bands :\n",
    "        band_stat[b].append(df.loc[i, 'objid'])\n",
    "        \n",
    "    objid_stat[objid] = bands"
   ]
  },
  {
   "cell_type": "markdown",
   "metadata": {},
   "source": [
    "## Band Correlation"
   ]
  },
  {
   "cell_type": "code",
   "execution_count": null,
   "metadata": {},
   "outputs": [],
   "source": [
    "corrs = {}\n",
    "for b1 in \"ugri\" :\n",
    "    corr = {b:0 for b in \"ugri\" if b != b1}\n",
    "\n",
    "    other_count = []\n",
    "    single_band = 0\n",
    "    for objid in band_stat[b1] :\n",
    "        other = 0\n",
    "        for b2 in objid_stat[objid] :\n",
    "            if b1 != b2 :\n",
    "                other += 1\n",
    "                corr[b2] += 1\n",
    "\n",
    "        if not other :\n",
    "            single_band += 1\n",
    "        else :\n",
    "            other_count.append(other)\n",
    "\n",
    "    uq, cnts = np.unique(np.array(other_count), return_counts=True)\n",
    "    other_count = {uq[i]:cnts[i] for i in range(len(uq))}\n",
    "    corrs[b1] = (corr, single_band, other_count)"
   ]
  },
  {
   "cell_type": "markdown",
   "metadata": {},
   "source": [
    "# Overall Band Statistics"
   ]
  },
  {
   "cell_type": "code",
   "execution_count": null,
   "metadata": {},
   "outputs": [],
   "source": [
    "max_corr = max([\n",
    "    max([u for u,_ in corrs[b][2].items()])\n",
    "])\n",
    "print (\"Maximum simultaneous detection of any object is in {} bands\".format(max_corr+1))\n",
    "\n",
    "max_band, max_count = '', 0\n",
    "for b in \"ugri\" :\n",
    "    if len(band_stat[b]) > max_count :\n",
    "        max_count = len(band_stat[b])\n",
    "        max_band = b\n",
    "print (\"Maximum detections occured in {}-band with {} detections\".format(max_band, max_count))"
   ]
  },
  {
   "cell_type": "markdown",
   "metadata": {},
   "source": [
    "## Individual Band Statitics"
   ]
  },
  {
   "cell_type": "code",
   "execution_count": null,
   "metadata": {},
   "outputs": [],
   "source": [
    "for band in \"ugri\" :\n",
    "    print (\"INFO FOR {}-BAND\".format(band))\n",
    "    print (\"Total detections in {}-band = {}\".format(band, len(band_stat[band])))\n",
    "    print (\"Exclusive detections in {}-band\".format(band, corrs[band][1]))\n",
    "    print (\"Band correlation with {}-band - \".format(band))\n",
    "    for b, c in corrs[band][0].items() :\n",
    "        print (\"\\t{}-band : {}\".format(b, c))\n",
    "\n",
    "    print (\"Correlation count with {}-band - \".format(band))\n",
    "    for u, c in corrs[b][2].items() :\n",
    "        print (\"\\tNumber of {} other simultaneous detection(s) : {}\".format(u, c))\n",
    "\n",
    "    corr_max, corr_cnt = '', 0\n",
    "    for b, c in corrs[band][0].items() :\n",
    "        if c > corr_cnt :\n",
    "            corr_max = b\n",
    "            corr_cnt = c\n",
    "    print (\"Max correlation of {}-band is with {}-band carrying {} detections\".format(band, corr_max, corr_cnt))\n",
    "    \n",
    "    if band != 'i' :\n",
    "        print (65*\"-\")"
   ]
  }
 ],
 "metadata": {
  "kernelspec": {
   "display_name": "Python 3",
   "language": "python",
   "name": "python3"
  },
  "language_info": {
   "codemirror_mode": {
    "name": "ipython",
    "version": 3
   },
   "file_extension": ".py",
   "mimetype": "text/x-python",
   "name": "python",
   "nbconvert_exporter": "python",
   "pygments_lexer": "ipython3",
   "version": "3.8.3"
  }
 },
 "nbformat": 4,
 "nbformat_minor": 4
}
