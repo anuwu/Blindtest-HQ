{
 "cells": [
  {
   "cell_type": "markdown",
   "metadata": {},
   "source": [
    "## Imports"
   ]
  },
  {
   "cell_type": "code",
   "execution_count": null,
   "metadata": {},
   "outputs": [],
   "source": [
    "import numpy as np\n",
    "import math\n",
    "import pandas as pd\n",
    "import matplotlib.pyplot as plt"
   ]
  },
  {
   "cell_type": "markdown",
   "metadata": {},
   "source": [
    "## Read data file"
   ]
  },
  {
   "cell_type": "code",
   "execution_count": null,
   "metadata": {},
   "outputs": [],
   "source": [
    "# photoZ1, photoZ_err1, absMagR1, u1, g1, r1, i1, z1, photoZ2, photoZ_err2, absMagR2, u2, g2, r2, i2, z2\n",
    "# schlegelZ1, schlegelZ_err1, schlegelZ2, schlegelZ_err2\n",
    "\n",
    "file = \"Stripe-82/stripe82_data.csv\"\n",
    "df = pd.read_csv(file, dtype=object)"
   ]
  },
  {
   "cell_type": "markdown",
   "metadata": {},
   "source": [
    "## Data Org Functions"
   ]
  },
  {
   "cell_type": "code",
   "execution_count": null,
   "metadata": {},
   "outputs": [],
   "source": [
    "df_to_np = lambda filt, s : np.array(list(\n",
    "    map(lambda x : float(x),\n",
    "       list(df[filt][s]))\n",
    "))\n",
    "\n",
    "colsN = lambda cols, n : list(map(lambda s : s+str(n), cols))\n",
    "get_data = lambda filt, cols : {\n",
    "    n : {c:df_to_np(filt, cn) for c, cn in zip(cols, colsN(cols, n))}\n",
    "    for n in [1, 2]\n",
    "}"
   ]
  },
  {
   "cell_type": "markdown",
   "metadata": {},
   "source": [
    "# **Valid PhotoZ**\n",
    "\n",
    "These are objects for which both the peaks have valid photoZ (not -9999)"
   ]
  },
  {
   "cell_type": "markdown",
   "metadata": {},
   "source": [
    "## Data dictionary of valid photoZ"
   ]
  },
  {
   "cell_type": "code",
   "execution_count": null,
   "metadata": {},
   "outputs": [],
   "source": [
    "pz = (df['photoZ1'] != '-9999') & (df['photoZ2'] != '-9999')\n",
    "pz_cols = ['photoZ', 'photoZ_err', 'absMagR', 'u', 'g', 'r', 'i', 'z']\n",
    "pz_data = get_data(pz, pz_cols)"
   ]
  },
  {
   "cell_type": "markdown",
   "metadata": {},
   "source": [
    "## Distribution of photoZ"
   ]
  },
  {
   "cell_type": "code",
   "execution_count": null,
   "metadata": {},
   "outputs": [],
   "source": [
    "fig, ax = plt.subplots(1, 2, gridspec_kw={'width_ratios' : [1,1]})\n",
    "fig.tight_layout()\n",
    "fig.set_figheight(5)\n",
    "fig.set_figwidth(10)\n",
    "\n",
    "for x in [1,2] :\n",
    "    ax[x-1].hist(pz_data[x]['photoZ'], bins=100)\n",
    "    ax[x-1].set_xlabel('PhotoZ-' + str(x))\n",
    "    ax[x-1].set_ylabel('Counts')\n",
    "    \n",
    "    \n",
    "fig.savefig('Stripe-82/photoZ_redshift_hist.png')\n",
    "pass"
   ]
  },
  {
   "cell_type": "markdown",
   "metadata": {},
   "source": [
    "## Color Diagram"
   ]
  },
  {
   "cell_type": "code",
   "execution_count": null,
   "metadata": {},
   "outputs": [],
   "source": [
    "fig, ax = plt.subplots(1, 2, gridspec_kw={'width_ratios' : [1,1]})\n",
    "fig.tight_layout()\n",
    "fig.set_figheight(5)\n",
    "fig.set_figwidth(10)\n",
    "\n",
    "for x in [1,2] :\n",
    "    ax[x-1].plot(pz_data[x]['absMagR'], pz_data[x]['g'] - pz_data[x]['r'], 'o', markersize=3)\n",
    "    ax[x-1].set_xlabel('absMagR-' + str(x))\n",
    "    ax[x-1].set_ylabel('g{} - r{}'.format(x, x))\n",
    "    \n",
    "fig.savefig('Stripe-82/photoZ_color_diagram.png')\n",
    "pass"
   ]
  },
  {
   "cell_type": "markdown",
   "metadata": {},
   "source": [
    "## Photometric Distribution"
   ]
  },
  {
   "cell_type": "code",
   "execution_count": null,
   "metadata": {},
   "outputs": [],
   "source": [
    "fig, ax = plt.subplots(5, 2, gridspec_kw={'width_ratios' : [1,1], 'height_ratios':[1,1,1,1,1]})\n",
    "fig.tight_layout()\n",
    "fig.set_figheight(12)\n",
    "fig.set_figwidth(10)\n",
    "\n",
    "for x,b in zip(range(5), \"ugriz\") :\n",
    "    ax[x][0].hist(pz_data[1][b], bins=100)\n",
    "    ax[x][1].hist(pz_data[2][b], bins=100)\n",
    "    ax[x][0].set_xlabel(\"{}-{}\".format(b, 1))\n",
    "    ax[x][0].set_ylabel(\"Counts\")\n",
    "    ax[x][1].set_xlabel(\"{}-{}\".format(b, 2))\n",
    "    ax[x][1].set_ylabel(\"Counts\")\n",
    "    \n",
    "fig.savefig('Stripe-82/photoZ_photo_hists.png')\n",
    "pass"
   ]
  },
  {
   "cell_type": "markdown",
   "metadata": {},
   "source": [
    "# **Valid SchlegelZ**\n",
    "\n",
    "These are objects for which both the peaks have valid schlegel redshit (taken from galSpecInfo)"
   ]
  },
  {
   "cell_type": "markdown",
   "metadata": {},
   "source": [
    "## galSpecInfo list"
   ]
  },
  {
   "cell_type": "code",
   "execution_count": null,
   "metadata": {},
   "outputs": [],
   "source": [
    "gz = (df['photoZ1'] != '-9999') & (df['photoZ2'] != '-9999') & (df['schlegelZ1'].notnull()) & (df['schlegelZ2'].notnull())\n",
    "\n",
    "gz_cols = ['schlegelZ', 'schlegelZ_err', 'absMagR', 'u', 'g', 'r', 'i', 'z']\n",
    "gz_data = get_data(gz, gz_cols)"
   ]
  },
  {
   "cell_type": "markdown",
   "metadata": {},
   "source": [
    "## Distribution of schlegelZ"
   ]
  },
  {
   "cell_type": "code",
   "execution_count": null,
   "metadata": {},
   "outputs": [],
   "source": [
    "fig, ax = plt.subplots(1, 2, gridspec_kw={'width_ratios' : [1,1]})\n",
    "fig.tight_layout()\n",
    "fig.set_figheight(5)\n",
    "fig.set_figwidth(10)\n",
    "\n",
    "for x in [1,2] :\n",
    "    ax[x-1].hist(gz_data[x]['schlegelZ'], bins=50)\n",
    "    ax[x-1].set_xlabel('SchlegelZ-' + str(x))\n",
    "    ax[x-1].set_ylabel('Counts')\n",
    "       \n",
    "fig.savefig('Stripe-82/schlegelZ_redshift_hist.png')\n",
    "pass"
   ]
  },
  {
   "cell_type": "markdown",
   "metadata": {},
   "source": [
    "## Color Diagram"
   ]
  },
  {
   "cell_type": "code",
   "execution_count": null,
   "metadata": {},
   "outputs": [],
   "source": [
    "fig, ax = plt.subplots(1, 2, gridspec_kw={'width_ratios' : [1,1]})\n",
    "fig.tight_layout()\n",
    "fig.set_figheight(5)\n",
    "fig.set_figwidth(10)\n",
    "\n",
    "for x in [1,2] :\n",
    "    ax[x-1].plot(gz_data[x]['absMagR'], gz_data[x]['g'] - gz_data[x]['r'], 'o', markersize=3)\n",
    "    ax[x-1].set_xlabel('absMagR-' + str(x))\n",
    "    ax[x-1].set_ylabel('g{} - r{}'.format(x, x))\n",
    "    \n",
    "fig.savefig('Stripe-82/schlegelZ_color_diagram.png')\n",
    "pass"
   ]
  },
  {
   "cell_type": "markdown",
   "metadata": {},
   "source": [
    "## Photometric Distribution"
   ]
  },
  {
   "cell_type": "code",
   "execution_count": null,
   "metadata": {},
   "outputs": [],
   "source": [
    "fig, ax = plt.subplots(5, 2, gridspec_kw={'width_ratios' : [1,1], 'height_ratios':[1,1,1,1,1]})\n",
    "fig.tight_layout()\n",
    "fig.set_figheight(12)\n",
    "fig.set_figwidth(10)\n",
    "\n",
    "for x,b in zip(range(5), \"ugriz\") :\n",
    "    ax[x][0].hist(gz_data[1][b], bins=100)\n",
    "    ax[x][1].hist(gz_data[2][b], bins=100)\n",
    "    ax[x][0].set_xlabel(\"{}-{}\".format(b, 1))\n",
    "    ax[x][0].set_ylabel(\"Counts\")\n",
    "    ax[x][1].set_xlabel(\"{}-{}\".format(b, 2))\n",
    "    ax[x][1].set_ylabel(\"Counts\")\n",
    "    \n",
    "fig.savefig('Stripe-82/schlegelZ_photo_hists.png')\n",
    "pass"
   ]
  }
 ],
 "metadata": {
  "kernelspec": {
   "display_name": "Python 3",
   "language": "python",
   "name": "python3"
  },
  "language_info": {
   "codemirror_mode": {
    "name": "ipython",
    "version": 3
   },
   "file_extension": ".py",
   "mimetype": "text/x-python",
   "name": "python",
   "nbconvert_exporter": "python",
   "pygments_lexer": "ipython3",
   "version": "3.8.3"
  }
 },
 "nbformat": 4,
 "nbformat_minor": 4
}
