{
 "cells": [
  {
   "cell_type": "markdown",
   "metadata": {},
   "source": [
    "## Imports"
   ]
  },
  {
   "cell_type": "code",
   "execution_count": null,
   "metadata": {},
   "outputs": [],
   "source": [
    "import numpy as np\n",
    "import pandas as pd\n",
    "import matplotlib.pyplot as plt"
   ]
  },
  {
   "cell_type": "markdown",
   "metadata": {},
   "source": [
    "## Read data file"
   ]
  },
  {
   "cell_type": "code",
   "execution_count": null,
   "metadata": {},
   "outputs": [],
   "source": [
    "file = \"pure_data.csv\"\n",
    "df = pd.read_csv(\"pure_data.csv\", dtype=object)"
   ]
  },
  {
   "cell_type": "markdown",
   "metadata": {},
   "source": [
    "## Filter out invalid photoZ"
   ]
  },
  {
   "cell_type": "code",
   "execution_count": null,
   "metadata": {},
   "outputs": [],
   "source": [
    "pz = (df['photoZ1'] != '-9999') & (df['photoZ2'] != '-9999')"
   ]
  },
  {
   "cell_type": "markdown",
   "metadata": {},
   "source": [
    "## Data Dictionary"
   ]
  },
  {
   "cell_type": "code",
   "execution_count": null,
   "metadata": {},
   "outputs": [],
   "source": [
    "# photoZ1, photoZ_err1, absMagR1, u1, g1, r1, i1, z1, photoZ2, photoZ_err2, absMagR2, u2, g2, r2, i2, z2\n",
    "# schlegelZ1, schlegelZ_err1, schlegelZ2, schlegelZ_err2\n",
    "\n",
    "df_to_np = lambda s : np.array(list(\n",
    "    map(lambda x : float(x),\n",
    "       list(df[pz][s]))\n",
    "))\n",
    "\n",
    "peak_cols = lambda n : list(map(lambda s : s+str(n), cols))\n",
    "cols = ['photoZ', 'photoZ_err', 'absMagR', 'u', 'g', 'r', 'i', 'z']\n",
    "\n",
    "peak_data = {\n",
    "    n : {c:df_to_np(cn) for c, cn in zip(cols, peak_cols(n))}\n",
    "    for n in [1,2]\n",
    "}"
   ]
  },
  {
   "cell_type": "markdown",
   "metadata": {},
   "source": [
    "## Distribution of photoZ"
   ]
  },
  {
   "cell_type": "code",
   "execution_count": null,
   "metadata": {},
   "outputs": [],
   "source": [
    "fig, ax = plt.subplots(1, 2, gridspec_kw={'width_ratios' : [1,1]})\n",
    "fig.tight_layout()\n",
    "fig.set_figheight(5)\n",
    "fig.set_figwidth(10)\n",
    "\n",
    "for x in [1,2] :\n",
    "    ax[x-1].hist(peak_data[x]['photoZ'], bins=100)\n",
    "    ax[x-1].set_xlabel('PhotoZ-' + str(x))\n",
    "    ax[x-1].set_ylabel('Counts')\n",
    "    \n",
    "    \n",
    "fig.savefig('photoZ_hist.png')\n",
    "pass"
   ]
  },
  {
   "cell_type": "markdown",
   "metadata": {},
   "source": [
    "## Color Diagram"
   ]
  },
  {
   "cell_type": "code",
   "execution_count": null,
   "metadata": {},
   "outputs": [],
   "source": [
    "fig, ax = plt.subplots(1, 2, gridspec_kw={'width_ratios' : [1,1]})\n",
    "fig.tight_layout()\n",
    "fig.set_figheight(5)\n",
    "fig.set_figwidth(10)\n",
    "\n",
    "for x in [1,2] :\n",
    "    ax[x-1].plot(peak_data[x]['absMagR'], peak_data[x]['g'] - peak_data[x]['r'], 'o', markersize=3)\n",
    "    ax[x-1].set_xlabel('absMagR-' + str(x))\n",
    "    ax[x-1].set_ylabel('g{} - r{}'.format(x, x))\n",
    "    \n",
    "fig.savefig('color_diagram.png')\n",
    "pass"
   ]
  },
  {
   "cell_type": "markdown",
   "metadata": {},
   "source": [
    "## Photometric Distribution"
   ]
  },
  {
   "cell_type": "code",
   "execution_count": null,
   "metadata": {},
   "outputs": [],
   "source": [
    "fig, ax = plt.subplots(5, 2, gridspec_kw={'width_ratios' : [1,1], 'height_ratios':[1,1,1,1,1]})\n",
    "fig.tight_layout()\n",
    "fig.set_figheight(12)\n",
    "fig.set_figwidth(10)\n",
    "\n",
    "for x,b in zip(range(5), \"ugriz\") :\n",
    "    ax[x][0].hist(peak_data[1][b], bins=100)\n",
    "    ax[x][1].hist(peak_data[2][b], bins=100)\n",
    "    ax[x][0].set_xlabel(\"{}-{}\".format(b, 1))\n",
    "    ax[x][0].set_ylabel(\"Counts\")\n",
    "    ax[x][1].set_xlabel(\"{}-{}\".format(b, 2))\n",
    "    ax[x][1].set_ylabel(\"Counts\")\n",
    "    \n",
    "fig.savefig('photoMag_hists.png')\n",
    "pass"
   ]
  }
 ],
 "metadata": {
  "kernelspec": {
   "display_name": "Python 3",
   "language": "python",
   "name": "python3"
  },
  "language_info": {
   "codemirror_mode": {
    "name": "ipython",
    "version": 3
   },
   "file_extension": ".py",
   "mimetype": "text/x-python",
   "name": "python",
   "nbconvert_exporter": "python",
   "pygments_lexer": "ipython3",
   "version": "3.8.3"
  }
 },
 "nbformat": 4,
 "nbformat_minor": 4
}
