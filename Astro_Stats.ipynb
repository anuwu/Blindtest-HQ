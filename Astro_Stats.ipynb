{
 "cells": [
  {
   "cell_type": "markdown",
   "metadata": {},
   "source": [
    "## Imports"
   ]
  },
  {
   "cell_type": "code",
   "execution_count": null,
   "metadata": {},
   "outputs": [],
   "source": [
    "import os\n",
    "import numpy as np\n",
    "import math\n",
    "import pandas as pd\n",
    "import matplotlib.pyplot as plt"
   ]
  },
  {
   "cell_type": "markdown",
   "metadata": {},
   "source": [
    "## Read data file"
   ]
  },
  {
   "cell_type": "code",
   "execution_count": null,
   "metadata": {},
   "outputs": [],
   "source": [
    "base = \"SDSSxGaia/StatBatches/Ascom\"\n",
    "# base = \"SDSS-Stripe82/Ascom/StatBatch\"\n",
    "datacsv = \"pids_data.csv\"\n",
    "csvpath = os.path.join(base, datacsv)\n",
    "df = pd.read_csv(csvpath, dtype=object)"
   ]
  },
  {
   "cell_type": "markdown",
   "metadata": {},
   "source": [
    "## Data Org Functions"
   ]
  },
  {
   "cell_type": "code",
   "execution_count": null,
   "metadata": {},
   "outputs": [],
   "source": [
    "## Not needed when plotting both peaks in the same plot, but the function\n",
    "## are pretty neat!! :) Let them remain!\n",
    "\n",
    "df_to_np = lambda filt, s : np.array(list(\n",
    "    map(lambda x : float(x),\n",
    "       list(df[filt][s]))\n",
    "))\n",
    "\n",
    "colsN = lambda cols, n : list(map(lambda s : s+str(n), cols))\n",
    "get_data = lambda filt, cols : {\n",
    "    n : {c:df_to_np(filt, cn) for c, cn in zip(cols, colsN(cols, n))}\n",
    "    for n in [1, 2]\n",
    "}"
   ]
  },
  {
   "cell_type": "markdown",
   "metadata": {},
   "source": [
    "# **Valid PhotoZ**\n",
    "\n",
    "These are objects for which both the peaks have valid photoZ (not -9999)"
   ]
  },
  {
   "cell_type": "markdown",
   "metadata": {},
   "source": [
    "## Data dictionary of valid photoZ"
   ]
  },
  {
   "cell_type": "code",
   "execution_count": null,
   "metadata": {},
   "outputs": [],
   "source": [
    "pz = (df['photoZ1'] != '-9999') & (df['photoZ2'] != '-9999')\n",
    "pz_cols = ['photoZ', 'photoZ_err', 'absMagR', 'u', 'g', 'r', 'i', 'z']\n",
    "\n",
    "photo_zs = []\n",
    "us, gs, rs, iis, zs = [], [], [], [], []\n",
    "absMagRs = []\n",
    "same, diff = 0, 0\n",
    "\n",
    "for i, row in df[pz].iterrows() :\n",
    "    if row['pid1'] == row['pid2'] :\n",
    "        photo_zs.append(float(row['photoZ1']))\n",
    "        same +=1 \n",
    "        \n",
    "        us.append(float(row['u1']))\n",
    "        gs.append(float(row['g1']))\n",
    "        rs.append(float(row['r1']))\n",
    "        iis.append(float(row['i1']))\n",
    "        zs.append(float(row['z1']))\n",
    "        \n",
    "        absMagRs.append(float(row['absMagR1']))\n",
    "    else :\n",
    "        photo_zs += [float(row['photoZ1']), float(row['photoZ2'])]\n",
    "        diff += 1\n",
    "        \n",
    "        us += [float(row['u1']), float(row['u2'])]\n",
    "        gs += [float(row['g1']), float(row['g2'])]\n",
    "        rs += [float(row['r1']), float(row['r2'])]\n",
    "        iis += [float(row['i1']), float(row['i2'])]\n",
    "        zs += [float(row['z1']), float(row['z2'])]\n",
    "        \n",
    "        absMagRs += [float(row['absMagR1']), float(row['absMagR2'])]\n",
    "        \n",
    "photo_zs = np.array(photo_zs)\n",
    "us, gs, rs, iis, zs = np.array(us), np.array(gs), np.array(rs), np.array(iis), np.array(zs)\n",
    "absMagRs = np.array(absMagRs)\n",
    "\n",
    "print(\"Valid photoZ = {}\".format(len(df[pz])))\n",
    "print(\"Same = {}\".format(same))\n",
    "print(\"Different = {}\".format(diff))"
   ]
  },
  {
   "cell_type": "markdown",
   "metadata": {},
   "source": [
    "## Distribution of photoZ"
   ]
  },
  {
   "cell_type": "code",
   "execution_count": null,
   "metadata": {},
   "outputs": [],
   "source": [
    "fig, ax = plt.subplots(1, 1)\n",
    "fig.set_figheight(5)\n",
    "fig.set_figwidth(5)\n",
    "\n",
    "ret = ax.hist(photo_zs, bins=50)\n",
    "ax.set_xlabel('Photometric redshift', fontsize=15)\n",
    "ax.set_ylabel('Counts', fontsize=15)\n",
    "\n",
    "# fig.savefig(os.path.join(base, 'photoZ_redshift_hist.png'))\n",
    "pass"
   ]
  },
  {
   "cell_type": "markdown",
   "metadata": {},
   "source": [
    "## Goodness of Fit"
   ]
  },
  {
   "cell_type": "code",
   "execution_count": null,
   "metadata": {},
   "outputs": [],
   "source": [
    "import scipy.stats as st\n",
    "from scipy.stats import kstest\n",
    "from sklearn.preprocessing import StandardScaler\n",
    "\n",
    "############################# Normalize Data ###############################\n",
    "\n",
    "sc = StandardScaler() \n",
    "photo_zs = photo_zs.reshape (-1,1)\n",
    "sc.fit(photo_zs)\n",
    "z_std = sc.transform(photo_zs)\n",
    "z_std = z_std.flatten()\n",
    "\n",
    "# disttypes = ['norm', 'rayleigh', 'cauchy', 'lognorm', 'beta', 'gamma']\n",
    "disttypes = ['norm']\n",
    "\n",
    "for disttype in disttypes :\n",
    "    ############################# KS-Test ###############################\n",
    "    dist = getattr(st, disttype)\n",
    "    ks = st.kstest(z_std, disttype, args=dist.fit(z_std))\n",
    "\n",
    "    ######################### Plot Fitted Data #########################\n",
    "    \n",
    "    fig, ax = plt.subplots(1)\n",
    "    fig.set_figheight(5)\n",
    "    fig.set_figwidth(5)\n",
    "\n",
    "    number_of_bins = 50\n",
    "    bin_cutoffs = np.linspace(np.percentile(photo_zs, 0), np.percentile(photo_zs, 99),number_of_bins)\n",
    "    h = ax.hist(photo_zs, bins = bin_cutoffs, color='0.75')\n",
    "    dist = getattr(st, disttype)\n",
    "    param = dist.fit(photo_zs)\n",
    "\n",
    "    lin = np.linspace(0, np.max(photo_zs), 1000)\n",
    "    pdf_fitted = dist.pdf(lin, *param[:-2], loc=param[-2], scale=param[-1])\n",
    "    scale_pdf = np.trapz(h[0], h[1][:-1]) / np.trapz (pdf_fitted, lin)\n",
    "    pdf_fitted *= scale_pdf\n",
    "\n",
    "    # Add the line to the plot\n",
    "    ax.plot(lin, scale_pdf*getattr(st, disttype)(*param).pdf(lin))\n",
    "    ax.set_xlabel('photo-Z', fontsize=15)\n",
    "    ax.set_ylabel('Counts', fontsize=15)\n",
    "    # plt.close()\n",
    "\n",
    "    # fig.savefig(os.path.join(base, 'photoZ_redshift_distfit.png'))\n",
    "    print(\"param = {}\".format(param))\n",
    "    print(\"{} --> {}\".format(disttype, ks))"
   ]
  },
  {
   "cell_type": "markdown",
   "metadata": {},
   "source": [
    "## Color Diagram"
   ]
  },
  {
   "cell_type": "code",
   "execution_count": null,
   "metadata": {},
   "outputs": [],
   "source": [
    "fig, ax = plt.subplots(1, 1)\n",
    "fig.set_figheight(5)\n",
    "fig.set_figwidth(5)\n",
    "\n",
    "ax.plot(absMagRs, gs-rs, 'o', markersize=3)\n",
    "ax.set_xlabel('Absolute Magnitude', fontsize=15)\n",
    "ax.set_ylabel('g - r', fontsize=15)\n",
    "    \n",
    "fig.savefig(os.path.join(base, 'photoZ_color_diagram.png'))\n",
    "pass"
   ]
  },
  {
   "cell_type": "markdown",
   "metadata": {},
   "source": [
    "## Photometric Distribution"
   ]
  },
  {
   "cell_type": "code",
   "execution_count": null,
   "metadata": {},
   "outputs": [],
   "source": [
    "for band, lst in zip(\"ugriz\", [us, gs, rs, iis, zs]) :\n",
    "    fig, ax = plt.subplots(1,1)\n",
    "    fig.set_figheight(5)\n",
    "    fig.set_figwidth(5)\n",
    "\n",
    "    ax.hist(lst, bins=50)\n",
    "    ax.set_xlabel(\"{}-Mag\".format(band), fontsize=10)\n",
    "    ax.set_ylabel('Counts', fontsize=10)\n",
    "    fig.savefig(os.path.join(base, 'photoZ_{}_hist.png'.format(band)))\n",
    "                \n",
    "pass"
   ]
  },
  {
   "cell_type": "markdown",
   "metadata": {},
   "source": [
    "# **Valid SchlegelZ**\n",
    "\n",
    "These are objects for which both the peaks have valid schlegel redshit (taken from galSpecInfo)"
   ]
  },
  {
   "cell_type": "markdown",
   "metadata": {},
   "source": [
    "## galSpecInfo list"
   ]
  },
  {
   "cell_type": "code",
   "execution_count": null,
   "metadata": {},
   "outputs": [],
   "source": [
    "gz = (df['photoZ1'] != '-9999') & (df['photoZ2'] != '-9999') & (df['schlegelZ1'].notnull()) & (df['schlegelZ2'].notnull())\n",
    "gz_cols = ['schlegelZ', 'schlegelZ_err', 'absMagR', 'u', 'g', 'r', 'i', 'z']\n",
    "\n",
    "schlegel_zs = []\n",
    "us, gs, rs, iis, zs = [], [], [], [], []\n",
    "absMagRs = []\n",
    "\n",
    "for i, row in df[gz].iterrows() :\n",
    "    if row['pid1'] == row['pid2'] :\n",
    "        schlegel_zs.append(float(row['schlegelZ1']))\n",
    "        \n",
    "        us.append(float(row['u1']))\n",
    "        gs.append(float(row['g1']))\n",
    "        rs.append(float(row['r1']))\n",
    "        iis.append(float(row['i1']))\n",
    "        zs.append(float(row['z1']))\n",
    "        \n",
    "        absMagRs.append(float(row['absMagR1']))\n",
    "    else :\n",
    "        schlegel_zs += [float(row['schlegelZ1']), float(row['schlegelZ2'])]\n",
    "        \n",
    "        us += [float(row['u1']), float(row['u2'])]\n",
    "        gs += [float(row['g1']), float(row['g2'])]\n",
    "        rs += [float(row['r1']), float(row['r2'])]\n",
    "        iis += [float(row['i1']), float(row['i2'])]\n",
    "        zs += [float(row['z1']), float(row['z2'])]\n",
    "        \n",
    "        absMagRs += [float(row['absMagR1']), float(row['absMagR2'])]\n",
    "        \n",
    "print(\"Valid schlegelZ = {}\".format(len(df[gz])))\n",
    "schlegel_zs = np.array(schlegel_zs)\n",
    "us, gs, rs, iis, zs = np.array(us), np.array(gs), np.array(rs), np.array(iis), np.array(zs)\n",
    "absMagRs = np.array(absMagRs)"
   ]
  },
  {
   "cell_type": "markdown",
   "metadata": {},
   "source": [
    "## Distribution of schlegelZ"
   ]
  },
  {
   "cell_type": "code",
   "execution_count": null,
   "metadata": {},
   "outputs": [],
   "source": [
    "fig, ax = plt.subplots(1, 1)\n",
    "fig.set_figheight(5)\n",
    "fig.set_figwidth(5)\n",
    "\n",
    "ax.hist(schlegel_zs, bins=20)    \n",
    "ax.set_xlabel('Schlegel redshift', fontsize=15)\n",
    "ax.set_ylabel('Counts', fontsize=15)\n",
    "\n",
    "fig.savefig(os.path.join(base, 'schlegelZ_redshift_hist.png'))\n",
    "pass"
   ]
  },
  {
   "cell_type": "markdown",
   "metadata": {},
   "source": [
    "## Color Diagram"
   ]
  },
  {
   "cell_type": "code",
   "execution_count": null,
   "metadata": {},
   "outputs": [],
   "source": [
    "fig, ax = plt.subplots(1, 1)\n",
    "fig.set_figheight(5)\n",
    "fig.set_figwidth(5)\n",
    "\n",
    "ax.plot(absMagRs, gs-rs, 'o', markersize=3)\n",
    "ax.set_xlabel('Absolute Magnitude', fontsize=15)\n",
    "ax.set_ylabel('g - r', fontsize=15)\n",
    "\n",
    "fig.savefig(os.path.join(base, 'schlegelZ_color_diagram.png'))\n",
    "\n",
    "pass"
   ]
  },
  {
   "cell_type": "markdown",
   "metadata": {},
   "source": [
    "## Photometric Distribution"
   ]
  },
  {
   "cell_type": "code",
   "execution_count": null,
   "metadata": {},
   "outputs": [],
   "source": [
    "for band, lst in zip(\"ugriz\", [us, gs, rs, iis, zs]) :\n",
    "    fig, ax = plt.subplots(1,1)\n",
    "    fig.set_figheight(5)\n",
    "    fig.set_figwidth(5)\n",
    "\n",
    "    ax.hist(lst, bins=25)\n",
    "    ax.set_xlabel(band)\n",
    "    ax.set_ylabel('Counts')\n",
    "    fig.savefig(os.path.join(base, 'schlegelZ_{}_hist.png'.format(band)))\n",
    "    \n",
    "\n",
    "pass"
   ]
  }
 ],
 "metadata": {
  "kernelspec": {
   "display_name": "Python 3",
   "language": "python",
   "name": "python3"
  },
  "language_info": {
   "codemirror_mode": {
    "name": "ipython",
    "version": 3
   },
   "file_extension": ".py",
   "mimetype": "text/x-python",
   "name": "python",
   "nbconvert_exporter": "python",
   "pygments_lexer": "ipython3",
   "version": "3.8.3"
  }
 },
 "nbformat": 4,
 "nbformat_minor": 4
}
