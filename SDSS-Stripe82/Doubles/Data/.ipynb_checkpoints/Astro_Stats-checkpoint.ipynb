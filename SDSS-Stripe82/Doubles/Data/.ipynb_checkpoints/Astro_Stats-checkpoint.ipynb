{
 "cells": [
  {
   "cell_type": "markdown",
   "metadata": {},
   "source": [
    "## Imports"
   ]
  },
  {
   "cell_type": "code",
   "execution_count": null,
   "metadata": {},
   "outputs": [],
   "source": [
    "import numpy as np\n",
    "import math\n",
    "import pandas as pd\n",
    "import matplotlib.pyplot as plt"
   ]
  },
  {
   "cell_type": "markdown",
   "metadata": {},
   "source": [
    "## Read data file"
   ]
  },
  {
   "cell_type": "code",
   "execution_count": null,
   "metadata": {},
   "outputs": [],
   "source": [
    "file = \"Stripe-82/stripe82_data.csv\"\n",
    "df = pd.read_csv(file, dtype=object)"
   ]
  },
  {
   "cell_type": "markdown",
   "metadata": {},
   "source": [
    "## Data Org Functions"
   ]
  },
  {
   "cell_type": "code",
   "execution_count": null,
   "metadata": {},
   "outputs": [],
   "source": [
    "## Not needed when plotting both peaks in the same plot, but the function\n",
    "## are pretty neat!! :) Let them remain!\n",
    "\n",
    "df_to_np = lambda filt, s : np.array(list(\n",
    "    map(lambda x : float(x),\n",
    "       list(df[filt][s]))\n",
    "))\n",
    "\n",
    "colsN = lambda cols, n : list(map(lambda s : s+str(n), cols))\n",
    "get_data = lambda filt, cols : {\n",
    "    n : {c:df_to_np(filt, cn) for c, cn in zip(cols, colsN(cols, n))}\n",
    "    for n in [1, 2]\n",
    "}"
   ]
  },
  {
   "cell_type": "markdown",
   "metadata": {},
   "source": [
    "# **Valid PhotoZ**\n",
    "\n",
    "These are objects for which both the peaks have valid photoZ (not -9999)"
   ]
  },
  {
   "cell_type": "markdown",
   "metadata": {},
   "source": [
    "## Data dictionary of valid photoZ"
   ]
  },
  {
   "cell_type": "code",
   "execution_count": null,
   "metadata": {},
   "outputs": [],
   "source": [
    "pz = (df['photoZ1'] != '-9999') & (df['photoZ2'] != '-9999')\n",
    "pz_cols = ['photoZ', 'photoZ_err', 'absMagR', 'u', 'g', 'r', 'i', 'z']\n",
    "\n",
    "photo_zs = []\n",
    "us, gs, rs, iis, zs = [], [], [], [], []\n",
    "absMagRs = []\n",
    "\n",
    "for i, row in df[pz].iterrows() :\n",
    "    if row['pid1'] == row['pid2'] :\n",
    "        photo_zs.append(float(row['photoZ1']))\n",
    "        \n",
    "        us.append(float(row['u1']))\n",
    "        gs.append(float(row['g1']))\n",
    "        rs.append(float(row['r1']))\n",
    "        iis.append(float(row['i1']))\n",
    "        zs.append(float(row['z1']))\n",
    "        \n",
    "        absMagRs.append(float(row['absMagR1']))\n",
    "    else :\n",
    "        photo_zs += [float(row['photoZ1']), float(row['photoZ2'])]\n",
    "        \n",
    "        us += [float(row['u1']), float(row['u2'])]\n",
    "        gs += [float(row['g1']), float(row['g2'])]\n",
    "        rs += [float(row['r1']), float(row['r2'])]\n",
    "        iis += [float(row['i1']), float(row['i2'])]\n",
    "        zs += [float(row['z1']), float(row['z2'])]\n",
    "        \n",
    "        absMagRs += [float(row['absMagR1']), float(row['absMagR2'])]\n",
    "        \n",
    "photo_zs = np.array(photo_zs)\n",
    "us, gs, rs, iis, zs = np.array(us), np.array(gs), np.array(rs), np.array(iis), np.array(zs)\n",
    "absMagRs = np.array(absMagRs)"
   ]
  },
  {
   "cell_type": "markdown",
   "metadata": {},
   "source": [
    "## Distribution of photoZ"
   ]
  },
  {
   "cell_type": "code",
   "execution_count": null,
   "metadata": {},
   "outputs": [],
   "source": [
    "# fig, ax = plt.subplots(1, 2, gridspec_kw={'width_ratios' : [1,1]})\n",
    "fig, ax = plt.subplots(1, 1)\n",
    "fig.tight_layout()\n",
    "fig.set_figheight(5)\n",
    "fig.set_figwidth(5)\n",
    "\n",
    "ax.hist(photo_zs, bins=100)    \n",
    "ax.set_xlabel('Photometric redshift', fontsize=15)\n",
    "ax.set_ylabel('Counts', fontsize=15)\n",
    "\n",
    "# fig.savefig('Stripe-82/photoZ_redshift_hist.png')\n",
    "pass"
   ]
  },
  {
   "cell_type": "markdown",
   "metadata": {},
   "source": [
    "## Color Diagram"
   ]
  },
  {
   "cell_type": "code",
   "execution_count": null,
   "metadata": {},
   "outputs": [],
   "source": [
    "fig, ax = plt.subplots(1, 1)\n",
    "fig.tight_layout()\n",
    "fig.set_figheight(5)\n",
    "fig.set_figwidth(5)\n",
    "\n",
    "ax.plot(absMagRs, gs-rs, 'o', markersize=3)\n",
    "ax.set_xlabel('Absolute Magnitude', fontsize=15)\n",
    "ax.set_ylabel('g - r', fontsize=15)\n",
    "    \n",
    "# fig.savefig('Stripe-82/photoZ_color_diagram.png')\n",
    "pass"
   ]
  },
  {
   "cell_type": "markdown",
   "metadata": {},
   "source": [
    "## Photometric Distribution"
   ]
  },
  {
   "cell_type": "code",
   "execution_count": null,
   "metadata": {},
   "outputs": [],
   "source": [
    "for band, lst in zip(\"ugriz\", [us, gs, rs, iis, zs]) :\n",
    "    fig, ax = plt.subplots(1,1)\n",
    "    fig.tight_layout()\n",
    "    fig.set_figheight(5)\n",
    "    fig.set_figwidth(5)\n",
    "\n",
    "    ax.hist(lst, bins=100)\n",
    "    ax.set_xlabel(band)\n",
    "    ax.set_ylabel('Counts')\n",
    "    fig.savefig(\"Stripe-82/photoZ_{}_hist.png\".format(band))\n",
    "                \n",
    "pass"
   ]
  },
  {
   "cell_type": "markdown",
   "metadata": {},
   "source": [
    "# **Valid SchlegelZ**\n",
    "\n",
    "These are objects for which both the peaks have valid schlegel redshit (taken from galSpecInfo)"
   ]
  },
  {
   "cell_type": "markdown",
   "metadata": {},
   "source": [
    "## galSpecInfo list"
   ]
  },
  {
   "cell_type": "code",
   "execution_count": null,
   "metadata": {},
   "outputs": [],
   "source": [
    "gz = (df['photoZ1'] != '-9999') & (df['photoZ2'] != '-9999') & (df['schlegelZ1'].notnull()) & (df['schlegelZ2'].notnull())\n",
    "gz_cols = ['schlegelZ', 'schlegelZ_err', 'absMagR', 'u', 'g', 'r', 'i', 'z']\n",
    "\n",
    "schlegel_zs = []\n",
    "us, gs, rs, iis, zs = [], [], [], [], []\n",
    "absMagRs = []\n",
    "\n",
    "for i, row in df[gz].iterrows() :\n",
    "    if row['pid1'] == row['pid2'] :\n",
    "        schlegel_zs.append(float(row['schlegelZ1']))\n",
    "        \n",
    "        us.append(float(row['u1']))\n",
    "        gs.append(float(row['g1']))\n",
    "        rs.append(float(row['r1']))\n",
    "        iis.append(float(row['i1']))\n",
    "        zs.append(float(row['z1']))\n",
    "        \n",
    "        absMagRs.append(float(row['absMagR1']))\n",
    "    else :\n",
    "        schlegel_zs += [float(row['schlegelZ1']), float(row['schlegelZ2'])]\n",
    "        \n",
    "        us += [float(row['u1']), float(row['u2'])]\n",
    "        gs += [float(row['g1']), float(row['g2'])]\n",
    "        rs += [float(row['r1']), float(row['r2'])]\n",
    "        iis += [float(row['i1']), float(row['i2'])]\n",
    "        zs += [float(row['z1']), float(row['z2'])]\n",
    "        \n",
    "        absMagRs += [float(row['absMagR1']), float(row['absMagR2'])]\n",
    "        \n",
    "schlegel_zs = np.array(schlegel_zs)\n",
    "us, gs, rs, iis, zs = np.array(us), np.array(gs), np.array(rs), np.array(iis), np.array(zs)\n",
    "absMagRs = np.array(absMagRs)"
   ]
  },
  {
   "cell_type": "markdown",
   "metadata": {},
   "source": [
    "## Distribution of schlegelZ"
   ]
  },
  {
   "cell_type": "code",
   "execution_count": null,
   "metadata": {},
   "outputs": [],
   "source": [
    "# fig, ax = plt.subplots(1, 2, gridspec_kw={'width_ratios' : [1,1]})\n",
    "fig, ax = plt.subplots(1, 1)\n",
    "fig.tight_layout()\n",
    "fig.set_figheight(5)\n",
    "fig.set_figwidth(5)\n",
    "\n",
    "ax.hist(schlegel_zs, bins=50)    \n",
    "ax.set_xlabel('Schlegel redshift', fontsize=15)\n",
    "ax.set_ylabel('Counts', fontsize=15)\n",
    "\n",
    "# fig.savefig('Stripe-82/schlegelZ_redshift_hist.png')\n",
    "pass"
   ]
  },
  {
   "cell_type": "markdown",
   "metadata": {},
   "source": [
    "## Color Diagram"
   ]
  },
  {
   "cell_type": "code",
   "execution_count": null,
   "metadata": {},
   "outputs": [],
   "source": [
    "for band, lst in zip(\"ugriz\", [us, gs, rs, iis, zs]) :\n",
    "    fig, ax = plt.subplots(1,1)\n",
    "    fig.tight_layout()\n",
    "    fig.set_figheight(5)\n",
    "    fig.set_figwidth(5)\n",
    "\n",
    "    ax.hist(lst, bins=50)\n",
    "    ax.set_xlabel(band)\n",
    "    ax.set_ylabel('Counts')\n",
    "    # fig.savefig(\"Stripe-82/schlegelZ_{}_hist.png\".format(band))\n",
    "                \n",
    "pass"
   ]
  },
  {
   "cell_type": "markdown",
   "metadata": {},
   "source": [
    "## Photometric Distribution"
   ]
  },
  {
   "cell_type": "code",
   "execution_count": null,
   "metadata": {},
   "outputs": [],
   "source": [
    "fig, ax = plt.subplots(5, 2, gridspec_kw={'width_ratios' : [1,1], 'height_ratios':[1,1,1,1,1]})\n",
    "fig.tight_layout()\n",
    "fig.set_figheight(12)\n",
    "fig.set_figwidth(10)\n",
    "\n",
    "for x,b in zip(range(5), \"ugriz\") :\n",
    "    ax[x][0].hist(gz_data[1][b], bins=100)\n",
    "    ax[x][1].hist(gz_data[2][b], bins=100)\n",
    "    ax[x][0].set_xlabel(\"{}-{}\".format(b, 1))\n",
    "    ax[x][0].set_ylabel(\"Counts\")\n",
    "    ax[x][1].set_xlabel(\"{}-{}\".format(b, 2))\n",
    "    ax[x][1].set_ylabel(\"Counts\")\n",
    "    \n",
    "# fig.savefig('Stripe-82/schlegelZ_photo_hists.png')\n",
    "pass"
   ]
  }
 ],
 "metadata": {
  "kernelspec": {
   "display_name": "Python 3",
   "language": "python",
   "name": "python3"
  },
  "language_info": {
   "codemirror_mode": {
    "name": "ipython",
    "version": 3
   },
   "file_extension": ".py",
   "mimetype": "text/x-python",
   "name": "python",
   "nbconvert_exporter": "python",
   "pygments_lexer": "ipython3",
   "version": "3.8.3"
  }
 },
 "nbformat": 4,
 "nbformat_minor": 4
}
